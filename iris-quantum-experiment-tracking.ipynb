{
 "cells": [
  {
   "cell_type": "markdown",
   "metadata": {},
   "source": [
    "# Tracking quantum experiments with Amazon Braket Hybrid Jobs and Amazon SageMaker Experiments"
   ]
  },
  {
   "cell_type": "markdown",
   "metadata": {},
   "source": [
    "This notebook demonstrates how you can track and manage your hybrid quantum-classical experiments using the Hybrid Jobs feature of Amazon Braket and Amazon SageMaker Experiments, a feature used by machine learning developers on AWS to organize their experiments and trials."
   ]
  },
  {
   "cell_type": "markdown",
   "metadata": {},
   "source": [
    "## Learning outcomes\n",
    "* Setup of Braket Notebook server to access Amazon Sagemaker Experiments functionality\n",
    "* Instantiation of an Sagemaker Experiment to track a hybrid quantum-classical experiment\n",
    "* Capturing data pre-processing for experiments in Sagemaker Experiments\n",
    "* Hyperparameter optimization using Braket Hybrid Jobs and Sagemaker Experiments\n",
    "* Accessing and analyzing experiment results using Sagemaker Experiments"
   ]
  },
  {
   "cell_type": "markdown",
   "metadata": {},
   "source": [
    "\n",
    "We train a variational quantum classifier (VQC) on a variant of the classic Iris data set. For demonstration purposes we use the simple [iris classification example by Pennylane](https://pennylane.ai/qml/demos/tutorial_variational_classifier.html) and the data and algorithm that is provided there and adapt the code to run on Braket Hybrid Jobs. Since we focus in this blog on the experiment tracking, we refer to the tutorial for more details on the algorithm itself."
   ]
  },
  {
   "cell_type": "markdown",
   "metadata": {},
   "source": [
    "The Notebook is structure in 5 steps:\n",
    "\n",
    "* Step 1: Setting up the environment for experiment tracking\n",
    "* Step 2: Problem example and pre-processing\n",
    "* Step 3: Running the experiment and tracking it with Sagemaker Experiments\n",
    "* Step 4: Evaluation of the experiment using Sagemaker Experiments.\n",
    "* Step 5: Cleaning up\n"
   ]
  },
  {
   "cell_type": "markdown",
   "metadata": {},
   "source": [
    "## Step 1: Setting up the environment for experiment tracking\n",
    "\n",
    "The example Notebook has to run on a Braket Notebook instance with access to SageMaker. Follow these setup steps:\n",
    "\n",
    "1. [Create an S3 bucket](https://docs.aws.amazon.com/AmazonS3/latest/userguide/creating-bucket.html) with a name that starts with amazon-braket-…. \n",
    "2. Go to the Amazon Braket console and [create a Notebook](https://docs.aws.amazon.com/braket/latest/developerguide/braket-get-started-create-notebook.html) in your preferred region. Instance size `ml.t3.medium` with standard settings is sufficient for the example. Once this Notebook instance has started it will also be accessible from the SageMaker console.\n",
    "3. Select your [Braket Notebook instance in the SageMaker console](https://docs.aws.amazon.com/sagemaker/latest/dg/howitworks-access-ws.html) and select it to open up the settings.\n",
    "4. Go to \"Permissions and Encyrption\" and click on \"IAM Role ARN\"\n",
    "5. Click on \"Add Permission\" then \"Create Inline Policy\".\n",
    "6. Copy and paste the following policy and give it a name\n",
    "\n",
    "\n",
    "The permissions below need to be added to the execution role of your Amazon Braket notebook:\n",
    "```\n",
    "{\n",
    "    \"Version\": \"2012-10-17\",\n",
    "    \"Statement\": [\n",
    "        {\n",
    "            \"Sid\": \"searchpermissions\",\n",
    "            \"Effect\": \"Allow\",\n",
    "            \"Action\": [\n",
    "                \"sagemaker:Search\"\n",
    "            ],\n",
    "            \"Resource\": \"*\"\n",
    "        },\n",
    "        {\n",
    "            \"Sid\": \"experimentpermissions\",\n",
    "            \"Effect\": \"Allow\",\n",
    "            \"Action\": [\n",
    "                \"sagemaker:CreateExperiment\",\n",
    "                \"sagemaker:DeleteExperiment\",\n",
    "                \"sagemaker:DescribeExperiment\",\n",
    "                \"sagemaker:ListExperiments\",\n",
    "                \"sagemaker:UpdateExperiment\"\n",
    "            ],\n",
    "            \"Resource\": \"arn:aws:sagemaker:*:*:*amazon-braket-*\"\n",
    "        },\n",
    "        {\n",
    "            \"Sid\": \"trialpermissions\",\n",
    "            \"Effect\": \"Allow\",\n",
    "            \"Action\": [\n",
    "                \"sagemaker:CreateTrial\",\n",
    "                \"sagemaker:DeleteTrial\",\n",
    "                \"sagemaker:DescribeTrial\",\n",
    "                \"sagemaker:ListTrials\",\n",
    "                \"sagemaker:UpdateTrial\"\n",
    "            ],\n",
    "            \"Resource\": \"arn:aws:sagemaker:*:*:*amazon-braket-*\"\n",
    "        },\n",
    "        {\n",
    "            \"Sid\": \"trialcomponentpermissions\",\n",
    "            \"Effect\": \"Allow\",\n",
    "            \"Action\": [\n",
    "                \"sagemaker:AssociateTrialComponent\",\n",
    "                \"sagemaker:CreateTrialComponent\",\n",
    "                \"sagemaker:DeleteTrialComponent\",\n",
    "                \"sagemaker:DescribeTrialComponent\",\n",
    "                \"sagemaker:DisassociateTrialComponent\",\n",
    "                \"sagemaker:ListTrialComponents\",\n",
    "                \"sagemaker:UpdateTrialComponent\"\n",
    "            ],\n",
    "            \"Resource\": \"arn:aws:sagemaker:*:*:experiment-*\"\n",
    "        }\n",
    "    ]\n",
    "}\n",
    "```\n",
    "Following the [best practice](https://docs.aws.amazon.com/kms/latest/developerguide/iam-policies-best-practices.html) of not giving wildcard (`*`) permissions, we only allow to create, delete and manipulate Amazon SageMaker experiments and trials whose names start with `amazon-braket`. The only exception is the read-only `sagemaker:Search`. We have to keep these naming conventions in mind when we create these resources below."
   ]
  },
  {
   "cell_type": "markdown",
   "metadata": {},
   "source": [
    "### Requirements & imports"
   ]
  },
  {
   "cell_type": "markdown",
   "metadata": {},
   "source": [
    "After you have completed the, access the Notebook instance, download the repository with this Notebook, open it in your new Braket Notebook instance with the `conda_braket` kernel and install the requirements:"
   ]
  },
  {
   "cell_type": "code",
   "execution_count": null,
   "metadata": {},
   "outputs": [],
   "source": [
    "pip install -r requirements.txt"
   ]
  },
  {
   "cell_type": "markdown",
   "metadata": {},
   "source": [
    "Run the the cells in the rest of the notebook, one after the other."
   ]
  },
  {
   "cell_type": "code",
   "execution_count": 1,
   "metadata": {},
   "outputs": [],
   "source": [
    "import os\n",
    "from copy import deepcopy\n",
    "from datetime import datetime\n",
    "\n",
    "import boto3\n",
    "import matplotlib.pyplot as plt\n",
    "import pandas as pd\n",
    "import sagemaker\n",
    "from braket.aws import AwsQuantumJob, AwsSession\n",
    "from braket.jobs.config import OutputDataConfig\n",
    "from braket.jobs.image_uris import Framework, retrieve_image\n",
    "from braket.jobs.local import LocalQuantumJob\n",
    "from pennylane import numpy as np\n",
    "from sagemaker import get_execution_role\n",
    "from sagemaker.analytics import ExperimentAnalytics\n",
    "from sagemaker.session import Session\n",
    "from sklearn.model_selection import train_test_split\n",
    "from smexperiments.experiment import Experiment\n",
    "from smexperiments.tracker import Tracker\n",
    "from smexperiments.trial import Trial\n",
    "from smexperiments.trial_component import TrialComponent\n",
    "\n",
    "from var_classifier.utils import create_features"
   ]
  },
  {
   "cell_type": "markdown",
   "metadata": {},
   "source": [
    "### Get session parameters"
   ]
  },
  {
   "cell_type": "code",
   "execution_count": 2,
   "metadata": {},
   "outputs": [],
   "source": [
    "sess = boto3.Session()\n",
    "role = get_execution_role()\n",
    "\n",
    "region = AwsSession().region\n",
    "image_uri = retrieve_image(Framework.PL_TENSORFLOW, region)"
   ]
  },
  {
   "cell_type": "markdown",
   "metadata": {},
   "source": [
    "Below we choose a local simulator as device."
   ]
  },
  {
   "cell_type": "code",
   "execution_count": 3,
   "metadata": {},
   "outputs": [],
   "source": [
    "device = \"local:pennylane/lightning.qubit\""
   ]
  },
  {
   "cell_type": "markdown",
   "metadata": {},
   "source": [
    "### Step 2: Problem example and pre-processing"
   ]
  },
  {
   "cell_type": "markdown",
   "metadata": {
    "tags": []
   },
   "source": [
    "Before we start preparing the data and training our VQC, we instantiate the overarching experiment."
   ]
  },
  {
   "cell_type": "code",
   "execution_count": 4,
   "metadata": {},
   "outputs": [],
   "source": [
    "experiment_name = (\n",
    "    f\"amazon-braket-my-first-vqc-experiment-{datetime.now().strftime('%Y-%m-%d-%H-%M-%S')}\"\n",
    ")\n",
    "vqc_experiment = Experiment.create(\n",
    "    experiment_name=experiment_name,\n",
    "    description=\"Tracking my first VQC experiment using Amazon Sagemaker Experiments\",\n",
    ")"
   ]
  },
  {
   "cell_type": "markdown",
   "metadata": {},
   "source": [
    "### Data preparation\n",
    "\n",
    "For this simple example we run all data pre-processing and feature engineering in the notebook.\n",
    "\n",
    "Define the S3 prefix under which you want to keep all the data generated in our experiments:"
   ]
  },
  {
   "cell_type": "code",
   "execution_count": null,
   "metadata": {},
   "outputs": [],
   "source": [
    "s3_base_path = \"amazon-braket-REMAINDER-OF-YOUR-BUCKET-NAME\" # with a name that starts with \"amazon-braket-\""
   ]
  },
  {
   "cell_type": "code",
   "execution_count": 6,
   "metadata": {},
   "outputs": [],
   "source": [
    "base_s3_path = f\"s3://{s3_base_path}/{experiment_name}\""
   ]
  },
  {
   "cell_type": "markdown",
   "metadata": {},
   "source": [
    "We keep track of all inputs and outputs of the experiment in different subfolders with the following paths:"
   ]
  },
  {
   "cell_type": "code",
   "execution_count": 7,
   "metadata": {},
   "outputs": [],
   "source": [
    "raw_data_path = f\"{base_s3_path}/raw_data\"\n",
    "processed_data_path = f\"{base_s3_path}/processed_data\"\n",
    "job_output_path = f\"{base_s3_path}/jobs\"\n",
    "\n",
    "os.environ[\"RAW_DATA_PATH\"] = raw_data_path\n",
    "os.environ[\"PROCESSED_DATA_PATH\"] = processed_data_path"
   ]
  },
  {
   "cell_type": "markdown",
   "metadata": {},
   "source": [
    "Define the main parameters of data preparation:"
   ]
  },
  {
   "cell_type": "code",
   "execution_count": 8,
   "metadata": {},
   "outputs": [],
   "source": [
    "# Choose the fraction of training and validation data.\n",
    "# The rest will be validation data. We don't use a separate test\n",
    "# set in this simple example\n",
    "train_size = 0.7\n",
    "\n",
    "# Fix a seed to ensure replicability (e.g. of train, test, val split)\n",
    "seed = 42\n",
    "\n",
    "val_size = 1 - train_size"
   ]
  },
  {
   "cell_type": "markdown",
   "metadata": {},
   "source": [
    "We load the provided variant of the iris data set and select the first two columns for our feautures and the forth as the value. After that, we clean it, save it locally, and split it in training and validation set. "
   ]
  },
  {
   "cell_type": "code",
   "execution_count": 9,
   "metadata": {},
   "outputs": [],
   "source": [
    "data = np.loadtxt(\"data/iris_classes1and2_scaled.txt\")\n",
    "X, y = data[:, 0:2], data[:, 4]"
   ]
  },
  {
   "cell_type": "code",
   "execution_count": 10,
   "metadata": {},
   "outputs": [],
   "source": [
    "_, id_unique = np.unique(X, return_index=True, axis=0)\n",
    "X, y = X[id_unique, :], y[id_unique]"
   ]
  },
  {
   "cell_type": "code",
   "execution_count": 11,
   "metadata": {},
   "outputs": [],
   "source": [
    "# Save the raw data\n",
    "np.savetxt(\"/tmp/raw_irisdata_features.txt\", X)\n",
    "np.savetxt(\"/tmp/raw_irisdata_labels.txt\", y)"
   ]
  },
  {
   "cell_type": "code",
   "execution_count": 12,
   "metadata": {},
   "outputs": [],
   "source": [
    "# Split into train, val\n",
    "X_train, X_val, y_train, y_val = train_test_split(\n",
    "    X, y, train_size=train_size, shuffle=True, random_state=seed\n",
    ")"
   ]
  },
  {
   "cell_type": "markdown",
   "metadata": {},
   "source": [
    "Let's see how the training features are distributed:"
   ]
  },
  {
   "cell_type": "code",
   "execution_count": 13,
   "metadata": {},
   "outputs": [
    {
     "data": {
      "image/png": "[encoded data removed]",
      "text/plain": [
       "<Figure size 640x480 with 1 Axes>"
      ]
     },
     "metadata": {},
     "output_type": "display_data"
    }
   ],
   "source": [
    "plt.scatter(X_train[y_train == -1, 0], X_train[y_train == -1, 1], c=\"red\", label=\"Flower Type 1\", marker=\"s\")\n",
    "plt.scatter(X_train[y_train == 1, 0], X_train[y_train == 1, 1], c=\"blue\", label=\"Flower Type 2\", marker=\"o\")\n",
    "plt.xlabel(\"Feature 1\")\n",
    "plt.ylabel(\"Feature 2\")\n",
    "plt.legend(loc=\"upper right\")\n",
    "plt.suptitle(\"Distribution of classes in feature space\")\n",
    "plt.show()"
   ]
  },
  {
   "cell_type": "markdown",
   "metadata": {},
   "source": [
    "### Feature engineering"
   ]
  },
  {
   "cell_type": "markdown",
   "metadata": {},
   "source": [
    "Feature engineering is defined in `create_features`. This function maps the data to a format that can be encoded in a qubit. Refer to the original [Pennylane example](https://pennylane.ai/qml/demos/tutorial_variational_classifier.html) and references therein for more information on this mapping."
   ]
  },
  {
   "cell_type": "code",
   "execution_count": 14,
   "metadata": {},
   "outputs": [],
   "source": [
    "feats_train = create_features(X_train)\n",
    "feats_val = create_features(X_val)"
   ]
  },
  {
   "cell_type": "markdown",
   "metadata": {},
   "source": [
    "Now we save the processed datasets and upload them to S3."
   ]
  },
  {
   "cell_type": "code",
   "execution_count": 15,
   "metadata": {},
   "outputs": [],
   "source": [
    "# Save in /tmp before uploading\n",
    "\n",
    "np.savetxt(\"/tmp/irisdata_train_features.txt\", feats_train)\n",
    "np.savetxt(\"/tmp/irisdata_train_labels.txt\", y_train)\n",
    "\n",
    "np.savetxt(\"/tmp/irisdata_val_features.txt\", feats_val)\n",
    "np.savetxt(\"/tmp/irisdata_val_labels.txt\", y_val)"
   ]
  },
  {
   "cell_type": "code",
   "execution_count": null,
   "metadata": {},
   "outputs": [],
   "source": [
    "!aws s3 cp /tmp $RAW_DATA_PATH --exclude \"*\" --include \"raw_irisdata_*.txt\" --recursive\n",
    "!aws s3 cp /tmp $PROCESSED_DATA_PATH --exclude \"*\" --include \"irisdata_*.txt\" --recursive"
   ]
  },
  {
   "cell_type": "markdown",
   "metadata": {},
   "source": [
    "With SageMaker Experiments we can track all the parameters used in data preprocessing in this experiment and the location of the resulting datasets. This ensures full reproducability of the results and consistent tracking of all iterations."
   ]
  },
  {
   "cell_type": "code",
   "execution_count": 17,
   "metadata": {},
   "outputs": [],
   "source": [
    "with Tracker.create(\n",
    "    display_name=\"pre-processing\"\n",
    ") as preproc_tracker:\n",
    "    # we can log the s3 uri to the dataset we just uploaded\n",
    "    preproc_tracker.log_parameters(\n",
    "        {\"train_size\": train_size, \"val_size\": val_size, \"seed\": seed}\n",
    "    )\n",
    "    preproc_tracker.log_input(name=\"raw data\", media_type=\"s3/uri\", value=raw_data_path)\n",
    "    preproc_tracker.log_output(\n",
    "        name=\"preprocessed data\", media_type=\"s3/uri\", value=processed_data_path\n",
    "    )"
   ]
  },
  {
   "cell_type": "markdown",
   "metadata": {},
   "source": [
    "Note that the `Tracker` class above is not related to the `Tracker` class used for [Amazon Braket cost tracking](https://aws.amazon.com/blogs/quantum-computing/managing-the-cost-of-your-experiments-in-amazon-braket/)."
   ]
  },
  {
   "cell_type": "markdown",
   "metadata": {},
   "source": [
    "## Step 3: Running the experiment and tracking it with Sagemaker Experiments"
   ]
  },
  {
   "cell_type": "markdown",
   "metadata": {},
   "source": [
    "The next step is to train the VQC and perform hyperparameter optimization. Our goal is to explore how the number of layers in the VQC affects the classification performance.\n",
    "\n",
    "For our current experiment we run trials for different values of `num_layers`. We run a Braket Hybrid Job for each selection of `num_layers`. Each run constitutes one trial of our experiment. We track all hyperparameters and the corresponding Braket Hybrid Job ARN. As in the preprocessing step, this enables us to fully reproduce our trials at a later point and investigate the artifacts that they created. We will later use this data to access all metrics and datasets of each trial.\n",
    "\n",
    "Note that the code below will send jobs to Braket and you have to wait for the jobs to be completed before continuing with the analysis of the experiments."
   ]
  },
  {
   "cell_type": "code",
   "execution_count": null,
   "metadata": {},
   "outputs": [
    {
     "name": "stdout",
     "output_type": "stream",
     "text": [
      "Kicking off Trial:  amazon-braket-QuantumTrial-2023-03-05-19-49-43\n"
     ]
    }
   ],
   "source": [
    "fixed_hyperparameters = {\n",
    "    \"seed\": seed,\n",
    "    \"stepsize\": 0.015,\n",
    "    \"num_iterations\": 30,\n",
    "    \"batchsize\": 5,\n",
    "}\n",
    "\n",
    "for num_layers in [1,2,4]:\n",
    "    # Create a trial for each selection of `num_layers`.\n",
    "    trial_name = f\"amazon-braket-QuantumTrial-{datetime.now().strftime('%Y-%m-%d-%H-%M-%S')}\"\n",
    "    trial = Trial.create(\n",
    "        trial_name=trial_name,\n",
    "        experiment_name=vqc_experiment.experiment_name\n",
    "    )\n",
    "\n",
    "    hyperparameters = deepcopy(fixed_hyperparameters)\n",
    "    hyperparameters[\"num_layers\"] = str(num_layers)\n",
    "\n",
    "    # Track hyperparameters\n",
    "    with Tracker.create(\n",
    "        display_name=\"hyperparameters\"\n",
    "    ) as hyperparameters_tracker:\n",
    "        hyperparameters_tracker.log_parameters(hyperparameters)\n",
    "\n",
    "    # Kick-off job\n",
    "    print(\"Kicking off Trial: \", trial_name)\n",
    "    job_name = \"var-classifier-training-job-\" + datetime.now().strftime(\n",
    "        \"%Y-%m-%d-%H-%M-%S\"\n",
    "    )\n",
    "    job = AwsQuantumJob.create(\n",
    "        device=device,\n",
    "        source_module=\"var_classifier\",\n",
    "        job_name=job_name,\n",
    "        image_uri=image_uri,\n",
    "        entry_point=\"var_classifier.entrypoint\",\n",
    "        hyperparameters=hyperparameters,\n",
    "        input_data=processed_data_path,\n",
    "        output_data_config=OutputDataConfig(f\"{job_output_path}/{job_name}\"),\n",
    "        wait_until_complete=False,\n",
    "    )\n",
    "\n",
    "    # Track the job_arn\n",
    "    with Tracker.create(\n",
    "        display_name=\"job-arn\"\n",
    "    ) as job_arn_tracker:\n",
    "        job_arn_tracker.log_output(\"job_arn\", job.arn)\n",
    "\n",
    "    # Add trackers\n",
    "    trial.add_trial_component(preproc_tracker.trial_component)\n",
    "    trial.add_trial_component(hyperparameters_tracker.trial_component)\n",
    "    trial.add_trial_component(job_arn_tracker.trial_component)"
   ]
  },
  {
   "cell_type": "markdown",
   "metadata": {},
   "source": [
    "## Step 4: Evaluation of the experiment using Sagemaker Experiments."
   ]
  },
  {
   "cell_type": "markdown",
   "metadata": {},
   "source": [
    "In this section we show how you can analyze your experiments using SageMaker Experiments."
   ]
  },
  {
   "cell_type": "markdown",
   "metadata": {},
   "source": [
    "You can use the SageMaker client to search through all of our past experiments. The search can be tailored using search expressions (see [here](https://boto3.amazonaws.com/v1/documentation/api/latest/reference/services/sagemaker.html#SageMaker.Client.search) for more details). We search for all experiments containing `amazon-braket-my-first-vqc-experiment` in their name."
   ]
  },
  {
   "cell_type": "code",
   "execution_count": null,
   "metadata": {},
   "outputs": [],
   "source": [
    "sm = sess.client(\"sagemaker\")"
   ]
  },
  {
   "cell_type": "code",
   "execution_count": null,
   "metadata": {},
   "outputs": [],
   "source": [
    "search_expression = {\n",
    "  \"Filters\": [\n",
    "    {\n",
    "      \"Name\": \"DisplayName\",\n",
    "      \"Operator\": \"Contains\",\n",
    "      \"Value\": \"amazon-braket-my-first-vqc-experiment\"\n",
    "    }]}"
   ]
  },
  {
   "cell_type": "code",
   "execution_count": null,
   "metadata": {},
   "outputs": [],
   "source": [
    "sm.search(Resource=\"Experiment\", SearchExpression=search_expression)"
   ]
  },
  {
   "cell_type": "markdown",
   "metadata": {},
   "source": [
    "We can also use the higher-level functionality of `ExperimentAnalytics`. Here we use it to get more information on our last experiment in DataFrame format."
   ]
  },
  {
   "cell_type": "code",
   "execution_count": 95,
   "metadata": {},
   "outputs": [],
   "source": [
    "trial_component_analytics = ExperimentAnalytics(\n",
    "    sagemaker_session=Session(sess, sm),\n",
    "    experiment_name=vqc_experiment.experiment_name, # or use a different experiment that you have run in the past\n",
    ")\n",
    "\n",
    "df_exp = trial_component_analytics.dataframe()"
   ]
  },
  {
   "cell_type": "code",
   "execution_count": null,
   "metadata": {},
   "outputs": [],
   "source": [
    "df_exp"
   ]
  },
  {
   "cell_type": "markdown",
   "metadata": {},
   "source": [
    "We request information on pre-processing, which can help us recreate or debug the experiment if needed."
   ]
  },
  {
   "cell_type": "code",
   "execution_count": null,
   "metadata": {},
   "outputs": [],
   "source": [
    "preprocessing_cols = [\"TrialComponentName\", \"Trials\", \"Experiments\", \"seed\", \"train_size\", \"val_size\", \"raw data - Value\", \"preprocessed data - Value\"]\n",
    "df_exp[df_exp.DisplayName==\"pre-processing\"][preprocessing_cols]"
   ]
  },
  {
   "cell_type": "markdown",
   "metadata": {},
   "source": [
    "It can make sense to write custom functions that extract the most relevant information from `df_exp`. We are interested in how the performance of our algorithm changes with different values of hyperparameters. To do that we use the ARNs of the Braket Hybrid Jobs tracked with SageMaker Experiments to reload these Braket Hybrid Jobs and access this information."
   ]
  },
  {
   "cell_type": "code",
   "execution_count": 98,
   "metadata": {},
   "outputs": [],
   "source": [
    "def process_experiment_info(df_exp):\n",
    "    \"\"\"\n",
    "    Create dataframe with key metrics of each quantum experiment\n",
    "\n",
    "    Parameters\n",
    "    ----------\n",
    "\n",
    "    df_exp: pd.DataFrame\n",
    "        DataFrame with information on quantum experiment as returned by ExperimentAnalytics\n",
    "\n",
    "    Returns\n",
    "    -------\n",
    "    2-tuple:\n",
    "        (df, trial_to_metrics)\n",
    "    \"\"\"\n",
    "    # Map trial to AwsQuantumJob objects, use here that there is a one-to-one mapping between these two objects\n",
    "    TRIAL_TO_JOB = {\n",
    "        trials[0]: AwsQuantumJob(arn)\n",
    "        for _, trials, arn in df_exp[df_exp.DisplayName == \"job-arn\"][\n",
    "            [\"Trials\", \"job_arn - Value\"]\n",
    "        ].to_records()\n",
    "    }\n",
    "\n",
    "    def _final_metrics(s):\n",
    "        trial = s.Trials[0]\n",
    "        job = TRIAL_TO_JOB[trial]\n",
    "        res = job.result()\n",
    "        del res[\"weights\"]\n",
    "        del res[\"bias\"]\n",
    "        s_res = pd.Series(res)\n",
    "        s_res[\"Trial\"] = trial\n",
    "        return s_res\n",
    "\n",
    "    # Get final metrics of each Trial\n",
    "    df = df_exp[df_exp.DisplayName == \"job-arn\"].apply(\n",
    "        lambda row: _final_metrics(row), axis=1\n",
    "    )\n",
    "\n",
    "    # Get hyperparameters of each Trial\n",
    "    HYPERPARAM_COLS = [\n",
    "        \"batchsize\",\n",
    "        \"num_iterations\",\n",
    "        \"stepsize\",\n",
    "        \"seed\",\n",
    "        \"num_layers\",\n",
    "    ]\n",
    "\n",
    "    # Create DataFrame with hyperparameters for each trial\n",
    "    # Taking into account that df_exp can contain hyperparameters of\n",
    "    # several experiments in the same row\n",
    "    new_rows = []\n",
    "    for k, row in df_exp[df_exp.DisplayName == \"hyperparameters\"].iterrows():\n",
    "        hyperparams = row[HYPERPARAM_COLS]\n",
    "        for trial in row[\"Trials\"]:\n",
    "            new_row = hyperparams.copy()\n",
    "            new_row[\"Trial\"] = trial\n",
    "            new_rows.append(new_row)\n",
    "\n",
    "    df_hyper = pd.DataFrame(new_rows)\n",
    "\n",
    "    # Combine in one dataframe, indexed by trial\n",
    "    df = (\n",
    "        df.merge(df_hyper, left_on=\"Trial\", right_on=\"Trial\")\n",
    "        .set_index(\"Trial\")\n",
    "        .sort_values(by=\"final_acc_val\", ascending=False)\n",
    "    )\n",
    "\n",
    "    # Create dictionary with metrics\n",
    "    trial_to_metrics = {\n",
    "        trial: pd.DataFrame(job.metrics()) for trial, job in TRIAL_TO_JOB.items()\n",
    "    }\n",
    "    return df, trial_to_metrics"
   ]
  },
  {
   "cell_type": "markdown",
   "metadata": {},
   "source": [
    "The dataframe `df` contains the hyperparameters and performance metrics for each trial."
   ]
  },
  {
   "cell_type": "code",
   "execution_count": 99,
   "metadata": {},
   "outputs": [],
   "source": [
    "df, trial_to_metrics = process_experiment_info(df_exp)"
   ]
  },
  {
   "cell_type": "code",
   "execution_count": 100,
   "metadata": {},
   "outputs": [
    {
     "data": {
      "text/html": [
       "<div>\n",
       "<style scoped>\n",
       "    .dataframe tbody tr th:only-of-type {\n",
       "        vertical-align: middle;\n",
       "    }\n",
       "\n",
       "    .dataframe tbody tr th {\n",
       "        vertical-align: top;\n",
       "    }\n",
       "\n",
       "    .dataframe thead th {\n",
       "        text-align: right;\n",
       "    }\n",
       "</style>\n",
       "<table border=\"1\" class=\"dataframe\">\n",
       "  <thead>\n",
       "    <tr style=\"text-align: right;\">\n",
       "      <th></th>\n",
       "      <th>final_cost_train</th>\n",
       "      <th>final_cost_val</th>\n",
       "      <th>final_acc_train</th>\n",
       "      <th>final_acc_val</th>\n",
       "      <th>batchsize</th>\n",
       "      <th>num_iterations</th>\n",
       "      <th>stepsize</th>\n",
       "      <th>seed</th>\n",
       "      <th>num_layers</th>\n",
       "    </tr>\n",
       "    <tr>\n",
       "      <th>Trial</th>\n",
       "      <th></th>\n",
       "      <th></th>\n",
       "      <th></th>\n",
       "      <th></th>\n",
       "      <th></th>\n",
       "      <th></th>\n",
       "      <th></th>\n",
       "      <th></th>\n",
       "      <th></th>\n",
       "    </tr>\n",
       "  </thead>\n",
       "  <tbody>\n",
       "    <tr>\n",
       "      <th>amazon-braket-QuantumTrial-2023-03-05-17-55-32</th>\n",
       "      <td>0.616925</td>\n",
       "      <td>0.556414</td>\n",
       "      <td>0.877193</td>\n",
       "      <td>0.92</td>\n",
       "      <td>5.0</td>\n",
       "      <td>30.0</td>\n",
       "      <td>0.015</td>\n",
       "      <td>42.0</td>\n",
       "      <td>4</td>\n",
       "    </tr>\n",
       "    <tr>\n",
       "      <th>amazon-braket-QuantumTrial-2023-03-05-17-55-29</th>\n",
       "      <td>0.749270</td>\n",
       "      <td>0.690383</td>\n",
       "      <td>0.789474</td>\n",
       "      <td>0.84</td>\n",
       "      <td>5.0</td>\n",
       "      <td>30.0</td>\n",
       "      <td>0.015</td>\n",
       "      <td>42.0</td>\n",
       "      <td>2</td>\n",
       "    </tr>\n",
       "    <tr>\n",
       "      <th>amazon-braket-QuantumTrial-2023-03-05-17-55-21</th>\n",
       "      <td>0.818518</td>\n",
       "      <td>0.772263</td>\n",
       "      <td>0.666667</td>\n",
       "      <td>0.72</td>\n",
       "      <td>5.0</td>\n",
       "      <td>30.0</td>\n",
       "      <td>0.015</td>\n",
       "      <td>42.0</td>\n",
       "      <td>1</td>\n",
       "    </tr>\n",
       "  </tbody>\n",
       "</table>\n",
       "</div>"
      ],
      "text/plain": [
       "                                                final_cost_train  \\\n",
       "Trial                                                              \n",
       "amazon-braket-QuantumTrial-2023-03-05-17-55-32          0.616925   \n",
       "amazon-braket-QuantumTrial-2023-03-05-17-55-29          0.749270   \n",
       "amazon-braket-QuantumTrial-2023-03-05-17-55-21          0.818518   \n",
       "\n",
       "                                                final_cost_val  \\\n",
       "Trial                                                            \n",
       "amazon-braket-QuantumTrial-2023-03-05-17-55-32        0.556414   \n",
       "amazon-braket-QuantumTrial-2023-03-05-17-55-29        0.690383   \n",
       "amazon-braket-QuantumTrial-2023-03-05-17-55-21        0.772263   \n",
       "\n",
       "                                                final_acc_train  \\\n",
       "Trial                                                             \n",
       "amazon-braket-QuantumTrial-2023-03-05-17-55-32         0.877193   \n",
       "amazon-braket-QuantumTrial-2023-03-05-17-55-29         0.789474   \n",
       "amazon-braket-QuantumTrial-2023-03-05-17-55-21         0.666667   \n",
       "\n",
       "                                                final_acc_val  batchsize  \\\n",
       "Trial                                                                      \n",
       "amazon-braket-QuantumTrial-2023-03-05-17-55-32           0.92        5.0   \n",
       "amazon-braket-QuantumTrial-2023-03-05-17-55-29           0.84        5.0   \n",
       "amazon-braket-QuantumTrial-2023-03-05-17-55-21           0.72        5.0   \n",
       "\n",
       "                                                num_iterations  stepsize  \\\n",
       "Trial                                                                      \n",
       "amazon-braket-QuantumTrial-2023-03-05-17-55-32            30.0     0.015   \n",
       "amazon-braket-QuantumTrial-2023-03-05-17-55-29            30.0     0.015   \n",
       "amazon-braket-QuantumTrial-2023-03-05-17-55-21            30.0     0.015   \n",
       "\n",
       "                                                seed num_layers  \n",
       "Trial                                                            \n",
       "amazon-braket-QuantumTrial-2023-03-05-17-55-32  42.0          4  \n",
       "amazon-braket-QuantumTrial-2023-03-05-17-55-29  42.0          2  \n",
       "amazon-braket-QuantumTrial-2023-03-05-17-55-21  42.0          1  "
      ]
     },
     "execution_count": 100,
     "metadata": {},
     "output_type": "execute_result"
    }
   ],
   "source": [
    "df"
   ]
  },
  {
   "cell_type": "markdown",
   "metadata": {},
   "source": [
    "We see that taking four layers yields the best final validation accuracy. However, looking only at the final validation accuracy can be deceiving. Let's dive deeper and investigate how the validation accuracy evolved with the optimization iterations within each trial."
   ]
  },
  {
   "cell_type": "code",
   "execution_count": 101,
   "metadata": {},
   "outputs": [
    {
     "data": {
      "image/png": "[encoded data removed]",
      "text/plain": [
       "<Figure size 1200x800 with 1 Axes>"
      ]
     },
     "metadata": {},
     "output_type": "display_data"
    }
   ],
   "source": [
    "fig = plt.figure(figsize=(12, 8))\n",
    "for trial, df_trial in trial_to_metrics.items():\n",
    "    n_layers = df.loc[trial, \"num_layers\"]\n",
    "    label = f\"num_layers: {n_layers} ({trial})\"\n",
    "    tmp = df_trial[[\"iteration_number\", \"acc_val\"]].dropna()\n",
    "    plt.plot(tmp.iteration_number.values, tmp.acc_val.values, label=label)\n",
    "\n",
    "plt.hlines(\n",
    "    1,\n",
    "    xmin=df_trial.iteration_number.min(),\n",
    "    xmax=df_trial.iteration_number.max(),\n",
    "    linestyle=\"--\",\n",
    ")\n",
    "plt.ylim(0, 1.2)\n",
    "plt.ylabel(\"Validation accuracy\")\n",
    "plt.xlabel(\"Number of iterations\")\n",
    "plt.legend()\n",
    "plt.tight_layout()\n",
    "plt.show()"
   ]
  },
  {
   "cell_type": "markdown",
   "metadata": {},
   "source": [
    "We see that, with a few exceptions, the validation accuracy for four layers is the highest throughout training. This suggests that four layers is indeed the best of all our choices. However, we can also see that the validation accuracy for all choices of `num_layers` is still increasing. This suggests that we might want to run another set of trials with a larger number of iterations (`num_layers`)and compare again."
   ]
  },
  {
   "cell_type": "markdown",
   "metadata": {},
   "source": [
    "## Step 5: Cleaning up"
   ]
  },
  {
   "cell_type": "markdown",
   "metadata": {},
   "source": [
    "* uncomment and run the cell below to delete all trials and components associated to the experiment created above\n",
    "* delete all datasets created and stored as part of this notebook\n",
    "* stop and delete your notebook instance"
   ]
  },
  {
   "cell_type": "code",
   "execution_count": 102,
   "metadata": {},
   "outputs": [],
   "source": [
    "#vqc_experiment.delete_all(action=\"--force\")"
   ]
  },
  {
   "cell_type": "code",
   "execution_count": null,
   "metadata": {},
   "outputs": [],
   "source": []
  }
 ],
 "metadata": {
  "instance_type": "ml.t3.medium",
  "kernelspec": {
   "display_name": "conda_braket",
   "language": "python",
   "name": "conda_braket"
  },
  "language_info": {
   "codemirror_mode": {
    "name": "ipython",
    "version": 3
   },
   "file_extension": ".py",
   "mimetype": "text/x-python",
   "name": "python",
   "nbconvert_exporter": "python",
   "pygments_lexer": "ipython3",
   "version": "3.7.13"
  }
 },
 "nbformat": 4,
 "nbformat_minor": 4
}
